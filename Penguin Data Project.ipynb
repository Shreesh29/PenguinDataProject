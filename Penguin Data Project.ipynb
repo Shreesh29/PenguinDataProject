{
 "cells": [
  {
   "cell_type": "markdown",
   "metadata": {},
   "source": [
    "# The Penguin Data Project"
   ]
  },
  {
   "cell_type": "markdown",
   "metadata": {},
   "source": [
    "###  The Objective\n",
    "\n",
    "The purpose of this project is to use Logistic Regression, Deep Neural Network, and Support Vector Classifiers  to predict penguin species given other information about the penguins. \n",
    "\n",
    "Twin objectives:\n",
    "\n",
    "1. Accurate: achieve 100% prediction accuray\n",
    "\n",
    "2. Efficient: use minimum parameters for training the model\n",
    "\n",
    "\n",
    "\n",
    "### The Data Set\n",
    "\n",
    "The data set contains details about 377 penguins from 3 species across 13 unique parameters, both qualitative and quantitative.\n",
    "\n",
    "The 3 species are as listed:\n",
    "\n",
    "1. Adelie\n",
    "2. Chinstrap\n",
    "3. Gentoo "
   ]
  },
  {
   "cell_type": "markdown",
   "metadata": {},
   "source": [
    "![title](penguins.png)"
   ]
  },
  {
   "cell_type": "markdown",
   "metadata": {},
   "source": [
    "## Grabbing the Data"
   ]
  },
  {
   "cell_type": "code",
   "execution_count": 1,
   "metadata": {},
   "outputs": [
    {
     "data": {
      "text/html": [
       "<div>\n",
       "<style scoped>\n",
       "    .dataframe tbody tr th:only-of-type {\n",
       "        vertical-align: middle;\n",
       "    }\n",
       "\n",
       "    .dataframe tbody tr th {\n",
       "        vertical-align: top;\n",
       "    }\n",
       "\n",
       "    .dataframe thead th {\n",
       "        text-align: right;\n",
       "    }\n",
       "</style>\n",
       "<table border=\"1\" class=\"dataframe\">\n",
       "  <thead>\n",
       "    <tr style=\"text-align: right;\">\n",
       "      <th></th>\n",
       "      <th>studyName</th>\n",
       "      <th>Sample Number</th>\n",
       "      <th>Species</th>\n",
       "      <th>Region</th>\n",
       "      <th>Island</th>\n",
       "      <th>Stage</th>\n",
       "      <th>Individual ID</th>\n",
       "      <th>Clutch Completion</th>\n",
       "      <th>Date Egg</th>\n",
       "      <th>Culmen Length (mm)</th>\n",
       "      <th>Culmen Depth (mm)</th>\n",
       "      <th>Flipper Length (mm)</th>\n",
       "      <th>Body Mass (g)</th>\n",
       "      <th>Sex</th>\n",
       "      <th>Delta 15 N (o/oo)</th>\n",
       "      <th>Delta 13 C (o/oo)</th>\n",
       "      <th>Comments</th>\n",
       "    </tr>\n",
       "  </thead>\n",
       "  <tbody>\n",
       "    <tr>\n",
       "      <th>0</th>\n",
       "      <td>PAL0708</td>\n",
       "      <td>1</td>\n",
       "      <td>Adelie Penguin (Pygoscelis adeliae)</td>\n",
       "      <td>Anvers</td>\n",
       "      <td>Torgersen</td>\n",
       "      <td>Adult, 1 Egg Stage</td>\n",
       "      <td>N1A1</td>\n",
       "      <td>Yes</td>\n",
       "      <td>11/11/07</td>\n",
       "      <td>39.1</td>\n",
       "      <td>18.7</td>\n",
       "      <td>181.0</td>\n",
       "      <td>3750.0</td>\n",
       "      <td>MALE</td>\n",
       "      <td>NaN</td>\n",
       "      <td>NaN</td>\n",
       "      <td>Not enough blood for isotopes.</td>\n",
       "    </tr>\n",
       "    <tr>\n",
       "      <th>1</th>\n",
       "      <td>PAL0708</td>\n",
       "      <td>2</td>\n",
       "      <td>Adelie Penguin (Pygoscelis adeliae)</td>\n",
       "      <td>Anvers</td>\n",
       "      <td>Torgersen</td>\n",
       "      <td>Adult, 1 Egg Stage</td>\n",
       "      <td>N1A2</td>\n",
       "      <td>Yes</td>\n",
       "      <td>11/11/07</td>\n",
       "      <td>39.5</td>\n",
       "      <td>17.4</td>\n",
       "      <td>186.0</td>\n",
       "      <td>3800.0</td>\n",
       "      <td>FEMALE</td>\n",
       "      <td>8.94956</td>\n",
       "      <td>-24.69454</td>\n",
       "      <td>NaN</td>\n",
       "    </tr>\n",
       "    <tr>\n",
       "      <th>2</th>\n",
       "      <td>PAL0708</td>\n",
       "      <td>3</td>\n",
       "      <td>Adelie Penguin (Pygoscelis adeliae)</td>\n",
       "      <td>Anvers</td>\n",
       "      <td>Torgersen</td>\n",
       "      <td>Adult, 1 Egg Stage</td>\n",
       "      <td>N2A1</td>\n",
       "      <td>Yes</td>\n",
       "      <td>11/16/07</td>\n",
       "      <td>40.3</td>\n",
       "      <td>18.0</td>\n",
       "      <td>195.0</td>\n",
       "      <td>3250.0</td>\n",
       "      <td>FEMALE</td>\n",
       "      <td>8.36821</td>\n",
       "      <td>-25.33302</td>\n",
       "      <td>NaN</td>\n",
       "    </tr>\n",
       "    <tr>\n",
       "      <th>3</th>\n",
       "      <td>PAL0708</td>\n",
       "      <td>4</td>\n",
       "      <td>Adelie Penguin (Pygoscelis adeliae)</td>\n",
       "      <td>Anvers</td>\n",
       "      <td>Torgersen</td>\n",
       "      <td>Adult, 1 Egg Stage</td>\n",
       "      <td>N2A2</td>\n",
       "      <td>Yes</td>\n",
       "      <td>11/16/07</td>\n",
       "      <td>NaN</td>\n",
       "      <td>NaN</td>\n",
       "      <td>NaN</td>\n",
       "      <td>NaN</td>\n",
       "      <td>NaN</td>\n",
       "      <td>NaN</td>\n",
       "      <td>NaN</td>\n",
       "      <td>Adult not sampled.</td>\n",
       "    </tr>\n",
       "    <tr>\n",
       "      <th>4</th>\n",
       "      <td>PAL0708</td>\n",
       "      <td>5</td>\n",
       "      <td>Adelie Penguin (Pygoscelis adeliae)</td>\n",
       "      <td>Anvers</td>\n",
       "      <td>Torgersen</td>\n",
       "      <td>Adult, 1 Egg Stage</td>\n",
       "      <td>N3A1</td>\n",
       "      <td>Yes</td>\n",
       "      <td>11/16/07</td>\n",
       "      <td>36.7</td>\n",
       "      <td>19.3</td>\n",
       "      <td>193.0</td>\n",
       "      <td>3450.0</td>\n",
       "      <td>FEMALE</td>\n",
       "      <td>8.76651</td>\n",
       "      <td>-25.32426</td>\n",
       "      <td>NaN</td>\n",
       "    </tr>\n",
       "    <tr>\n",
       "      <th>...</th>\n",
       "      <td>...</td>\n",
       "      <td>...</td>\n",
       "      <td>...</td>\n",
       "      <td>...</td>\n",
       "      <td>...</td>\n",
       "      <td>...</td>\n",
       "      <td>...</td>\n",
       "      <td>...</td>\n",
       "      <td>...</td>\n",
       "      <td>...</td>\n",
       "      <td>...</td>\n",
       "      <td>...</td>\n",
       "      <td>...</td>\n",
       "      <td>...</td>\n",
       "      <td>...</td>\n",
       "      <td>...</td>\n",
       "      <td>...</td>\n",
       "    </tr>\n",
       "    <tr>\n",
       "      <th>339</th>\n",
       "      <td>PAL0910</td>\n",
       "      <td>120</td>\n",
       "      <td>Gentoo penguin (Pygoscelis papua)</td>\n",
       "      <td>Anvers</td>\n",
       "      <td>Biscoe</td>\n",
       "      <td>Adult, 1 Egg Stage</td>\n",
       "      <td>N38A2</td>\n",
       "      <td>No</td>\n",
       "      <td>12/1/09</td>\n",
       "      <td>NaN</td>\n",
       "      <td>NaN</td>\n",
       "      <td>NaN</td>\n",
       "      <td>NaN</td>\n",
       "      <td>NaN</td>\n",
       "      <td>NaN</td>\n",
       "      <td>NaN</td>\n",
       "      <td>NaN</td>\n",
       "    </tr>\n",
       "    <tr>\n",
       "      <th>340</th>\n",
       "      <td>PAL0910</td>\n",
       "      <td>121</td>\n",
       "      <td>Gentoo penguin (Pygoscelis papua)</td>\n",
       "      <td>Anvers</td>\n",
       "      <td>Biscoe</td>\n",
       "      <td>Adult, 1 Egg Stage</td>\n",
       "      <td>N39A1</td>\n",
       "      <td>Yes</td>\n",
       "      <td>11/22/09</td>\n",
       "      <td>46.8</td>\n",
       "      <td>14.3</td>\n",
       "      <td>215.0</td>\n",
       "      <td>4850.0</td>\n",
       "      <td>FEMALE</td>\n",
       "      <td>8.41151</td>\n",
       "      <td>-26.13832</td>\n",
       "      <td>NaN</td>\n",
       "    </tr>\n",
       "    <tr>\n",
       "      <th>341</th>\n",
       "      <td>PAL0910</td>\n",
       "      <td>122</td>\n",
       "      <td>Gentoo penguin (Pygoscelis papua)</td>\n",
       "      <td>Anvers</td>\n",
       "      <td>Biscoe</td>\n",
       "      <td>Adult, 1 Egg Stage</td>\n",
       "      <td>N39A2</td>\n",
       "      <td>Yes</td>\n",
       "      <td>11/22/09</td>\n",
       "      <td>50.4</td>\n",
       "      <td>15.7</td>\n",
       "      <td>222.0</td>\n",
       "      <td>5750.0</td>\n",
       "      <td>MALE</td>\n",
       "      <td>8.30166</td>\n",
       "      <td>-26.04117</td>\n",
       "      <td>NaN</td>\n",
       "    </tr>\n",
       "    <tr>\n",
       "      <th>342</th>\n",
       "      <td>PAL0910</td>\n",
       "      <td>123</td>\n",
       "      <td>Gentoo penguin (Pygoscelis papua)</td>\n",
       "      <td>Anvers</td>\n",
       "      <td>Biscoe</td>\n",
       "      <td>Adult, 1 Egg Stage</td>\n",
       "      <td>N43A1</td>\n",
       "      <td>Yes</td>\n",
       "      <td>11/22/09</td>\n",
       "      <td>45.2</td>\n",
       "      <td>14.8</td>\n",
       "      <td>212.0</td>\n",
       "      <td>5200.0</td>\n",
       "      <td>FEMALE</td>\n",
       "      <td>8.24246</td>\n",
       "      <td>-26.11969</td>\n",
       "      <td>NaN</td>\n",
       "    </tr>\n",
       "    <tr>\n",
       "      <th>343</th>\n",
       "      <td>PAL0910</td>\n",
       "      <td>124</td>\n",
       "      <td>Gentoo penguin (Pygoscelis papua)</td>\n",
       "      <td>Anvers</td>\n",
       "      <td>Biscoe</td>\n",
       "      <td>Adult, 1 Egg Stage</td>\n",
       "      <td>N43A2</td>\n",
       "      <td>Yes</td>\n",
       "      <td>11/22/09</td>\n",
       "      <td>49.9</td>\n",
       "      <td>16.1</td>\n",
       "      <td>213.0</td>\n",
       "      <td>5400.0</td>\n",
       "      <td>MALE</td>\n",
       "      <td>8.36390</td>\n",
       "      <td>-26.15531</td>\n",
       "      <td>NaN</td>\n",
       "    </tr>\n",
       "  </tbody>\n",
       "</table>\n",
       "<p>344 rows × 17 columns</p>\n",
       "</div>"
      ],
      "text/plain": [
       "    studyName  Sample Number                              Species  Region  \\\n",
       "0     PAL0708              1  Adelie Penguin (Pygoscelis adeliae)  Anvers   \n",
       "1     PAL0708              2  Adelie Penguin (Pygoscelis adeliae)  Anvers   \n",
       "2     PAL0708              3  Adelie Penguin (Pygoscelis adeliae)  Anvers   \n",
       "3     PAL0708              4  Adelie Penguin (Pygoscelis adeliae)  Anvers   \n",
       "4     PAL0708              5  Adelie Penguin (Pygoscelis adeliae)  Anvers   \n",
       "..        ...            ...                                  ...     ...   \n",
       "339   PAL0910            120    Gentoo penguin (Pygoscelis papua)  Anvers   \n",
       "340   PAL0910            121    Gentoo penguin (Pygoscelis papua)  Anvers   \n",
       "341   PAL0910            122    Gentoo penguin (Pygoscelis papua)  Anvers   \n",
       "342   PAL0910            123    Gentoo penguin (Pygoscelis papua)  Anvers   \n",
       "343   PAL0910            124    Gentoo penguin (Pygoscelis papua)  Anvers   \n",
       "\n",
       "        Island               Stage Individual ID Clutch Completion  Date Egg  \\\n",
       "0    Torgersen  Adult, 1 Egg Stage          N1A1               Yes  11/11/07   \n",
       "1    Torgersen  Adult, 1 Egg Stage          N1A2               Yes  11/11/07   \n",
       "2    Torgersen  Adult, 1 Egg Stage          N2A1               Yes  11/16/07   \n",
       "3    Torgersen  Adult, 1 Egg Stage          N2A2               Yes  11/16/07   \n",
       "4    Torgersen  Adult, 1 Egg Stage          N3A1               Yes  11/16/07   \n",
       "..         ...                 ...           ...               ...       ...   \n",
       "339     Biscoe  Adult, 1 Egg Stage         N38A2                No   12/1/09   \n",
       "340     Biscoe  Adult, 1 Egg Stage         N39A1               Yes  11/22/09   \n",
       "341     Biscoe  Adult, 1 Egg Stage         N39A2               Yes  11/22/09   \n",
       "342     Biscoe  Adult, 1 Egg Stage         N43A1               Yes  11/22/09   \n",
       "343     Biscoe  Adult, 1 Egg Stage         N43A2               Yes  11/22/09   \n",
       "\n",
       "     Culmen Length (mm)  Culmen Depth (mm)  Flipper Length (mm)  \\\n",
       "0                  39.1               18.7                181.0   \n",
       "1                  39.5               17.4                186.0   \n",
       "2                  40.3               18.0                195.0   \n",
       "3                   NaN                NaN                  NaN   \n",
       "4                  36.7               19.3                193.0   \n",
       "..                  ...                ...                  ...   \n",
       "339                 NaN                NaN                  NaN   \n",
       "340                46.8               14.3                215.0   \n",
       "341                50.4               15.7                222.0   \n",
       "342                45.2               14.8                212.0   \n",
       "343                49.9               16.1                213.0   \n",
       "\n",
       "     Body Mass (g)     Sex  Delta 15 N (o/oo)  Delta 13 C (o/oo)  \\\n",
       "0           3750.0    MALE                NaN                NaN   \n",
       "1           3800.0  FEMALE            8.94956          -24.69454   \n",
       "2           3250.0  FEMALE            8.36821          -25.33302   \n",
       "3              NaN     NaN                NaN                NaN   \n",
       "4           3450.0  FEMALE            8.76651          -25.32426   \n",
       "..             ...     ...                ...                ...   \n",
       "339            NaN     NaN                NaN                NaN   \n",
       "340         4850.0  FEMALE            8.41151          -26.13832   \n",
       "341         5750.0    MALE            8.30166          -26.04117   \n",
       "342         5200.0  FEMALE            8.24246          -26.11969   \n",
       "343         5400.0    MALE            8.36390          -26.15531   \n",
       "\n",
       "                           Comments  \n",
       "0    Not enough blood for isotopes.  \n",
       "1                               NaN  \n",
       "2                               NaN  \n",
       "3                Adult not sampled.  \n",
       "4                               NaN  \n",
       "..                              ...  \n",
       "339                             NaN  \n",
       "340                             NaN  \n",
       "341                             NaN  \n",
       "342                             NaN  \n",
       "343                             NaN  \n",
       "\n",
       "[344 rows x 17 columns]"
      ]
     },
     "execution_count": 1,
     "metadata": {},
     "output_type": "execute_result"
    }
   ],
   "source": [
    "import urllib\n",
    "import pandas as pd\n",
    "import numpy as np\n",
    "\n",
    "url = 'https://raw.githubusercontent.com/Shreesh29/Datasets/main/penguins.csv'\n",
    "filedata = urllib.request.urlopen(url)\n",
    "with open('penguins.csv', 'wb') as f:\n",
    "    f.write(filedata.read())\n",
    "    \n",
    "penguins = pd.read_csv(\"penguins.csv\")\n",
    "penguins"
   ]
  },
  {
   "cell_type": "markdown",
   "metadata": {},
   "source": [
    "## Cleaning the data"
   ]
  },
  {
   "cell_type": "markdown",
   "metadata": {},
   "source": [
    "The next step is to clean our data:\n",
    "\n",
    "1. Drops all nan values\n",
    "2. Relabel text values (categorical variables) as numbers\n",
    "3. Remove columns unnecessary for our analyses \n",
    "\n",
    "We will remove the following columns as they do not provide relevant insight about the penguins which could be utilised by our ML models to differentiate between different species:\n",
    "\n",
    "1. Sample Number\n",
    "2. studyName\n",
    "3. Stage\n",
    "4. IndividualID\n",
    "5. Clutch Completion \n",
    "6. Date Egg\n",
    "7. Comments\n",
    "\n",
    "The cleaning process is performed by function clean_data."
   ]
  },
  {
   "cell_type": "code",
   "execution_count": 2,
   "metadata": {},
   "outputs": [],
   "source": [
    "def clean_data(df):\n",
    "    \n",
    "    \"\"\"\n",
    "    This function does the following:\n",
    "    1. Recodes the island labels to int values.\n",
    "    2. Recodes the species to int values.\n",
    "    3. Recodes sex to int values\n",
    "    4. Drop/Remove columns - Sample Number, studyName, Stage, IndividualID, Clutch Completion, Date Egg, Comments\n",
    "    5. Drops nan values\n",
    "    \n",
    "    It returns:\n",
    "    A clean copy of our data set. \n",
    "    \"\"\"\n",
    "    \n",
    "    # create a copy \n",
    "    df_copy = df.copy()\n",
    "    \n",
    "    # columns to drop\n",
    "    drop_cols = [\"Sample Number\", \"studyName\", \"Stage\", \"Individual ID\", \"Clutch Completion\", \"Date Egg\", \"Comments\", \"Region\"]\n",
    "    df_copy = df_copy.drop(columns = drop_cols, axis = 1) # drop the columns\n",
    "    \n",
    "    # create labels for recoding species, islands and sex\n",
    "    island_labels = { \"Biscoe\": 0,\n",
    "                      \"Dream\" : 1,\n",
    "                      \"Torgersen\" : 2 }\n",
    "    \n",
    "    species_labels = { 'Adelie Penguin (Pygoscelis adeliae)': 0,\n",
    "                      'Chinstrap penguin (Pygoscelis antarctica)': 1,\n",
    "                      'Gentoo penguin (Pygoscelis papua)': 2 }\n",
    "    \n",
    "    sex_labels = { \"MALE\": 0,\n",
    "                   \"FEMALE\": 1,\n",
    "                   \".\": np.nan }\n",
    "    \n",
    "    # recode species and island into int values\n",
    "    df_copy[\"Island\"] = df_copy[\"Island\"].map(island_labels)\n",
    "    df_copy[\"Species\"] = df_copy[\"Species\"].map(species_labels)\n",
    "    df_copy[\"Sex\"] = df_copy[\"Sex\"].map(sex_labels)\n",
    "    \n",
    "    # remove all nan values \n",
    "    df_copy = df_copy.dropna()\n",
    "    \n",
    "    return df_copy"
   ]
  },
  {
   "cell_type": "code",
   "execution_count": 3,
   "metadata": {},
   "outputs": [
    {
     "data": {
      "text/html": [
       "<div>\n",
       "<style scoped>\n",
       "    .dataframe tbody tr th:only-of-type {\n",
       "        vertical-align: middle;\n",
       "    }\n",
       "\n",
       "    .dataframe tbody tr th {\n",
       "        vertical-align: top;\n",
       "    }\n",
       "\n",
       "    .dataframe thead th {\n",
       "        text-align: right;\n",
       "    }\n",
       "</style>\n",
       "<table border=\"1\" class=\"dataframe\">\n",
       "  <thead>\n",
       "    <tr style=\"text-align: right;\">\n",
       "      <th></th>\n",
       "      <th>Species</th>\n",
       "      <th>Island</th>\n",
       "      <th>Culmen Length (mm)</th>\n",
       "      <th>Culmen Depth (mm)</th>\n",
       "      <th>Flipper Length (mm)</th>\n",
       "      <th>Body Mass (g)</th>\n",
       "      <th>Sex</th>\n",
       "      <th>Delta 15 N (o/oo)</th>\n",
       "      <th>Delta 13 C (o/oo)</th>\n",
       "    </tr>\n",
       "  </thead>\n",
       "  <tbody>\n",
       "    <tr>\n",
       "      <th>1</th>\n",
       "      <td>0</td>\n",
       "      <td>2</td>\n",
       "      <td>39.5</td>\n",
       "      <td>17.4</td>\n",
       "      <td>186.0</td>\n",
       "      <td>3800.0</td>\n",
       "      <td>1.0</td>\n",
       "      <td>8.94956</td>\n",
       "      <td>-24.69454</td>\n",
       "    </tr>\n",
       "    <tr>\n",
       "      <th>2</th>\n",
       "      <td>0</td>\n",
       "      <td>2</td>\n",
       "      <td>40.3</td>\n",
       "      <td>18.0</td>\n",
       "      <td>195.0</td>\n",
       "      <td>3250.0</td>\n",
       "      <td>1.0</td>\n",
       "      <td>8.36821</td>\n",
       "      <td>-25.33302</td>\n",
       "    </tr>\n",
       "    <tr>\n",
       "      <th>4</th>\n",
       "      <td>0</td>\n",
       "      <td>2</td>\n",
       "      <td>36.7</td>\n",
       "      <td>19.3</td>\n",
       "      <td>193.0</td>\n",
       "      <td>3450.0</td>\n",
       "      <td>1.0</td>\n",
       "      <td>8.76651</td>\n",
       "      <td>-25.32426</td>\n",
       "    </tr>\n",
       "    <tr>\n",
       "      <th>5</th>\n",
       "      <td>0</td>\n",
       "      <td>2</td>\n",
       "      <td>39.3</td>\n",
       "      <td>20.6</td>\n",
       "      <td>190.0</td>\n",
       "      <td>3650.0</td>\n",
       "      <td>0.0</td>\n",
       "      <td>8.66496</td>\n",
       "      <td>-25.29805</td>\n",
       "    </tr>\n",
       "    <tr>\n",
       "      <th>6</th>\n",
       "      <td>0</td>\n",
       "      <td>2</td>\n",
       "      <td>38.9</td>\n",
       "      <td>17.8</td>\n",
       "      <td>181.0</td>\n",
       "      <td>3625.0</td>\n",
       "      <td>1.0</td>\n",
       "      <td>9.18718</td>\n",
       "      <td>-25.21799</td>\n",
       "    </tr>\n",
       "    <tr>\n",
       "      <th>...</th>\n",
       "      <td>...</td>\n",
       "      <td>...</td>\n",
       "      <td>...</td>\n",
       "      <td>...</td>\n",
       "      <td>...</td>\n",
       "      <td>...</td>\n",
       "      <td>...</td>\n",
       "      <td>...</td>\n",
       "      <td>...</td>\n",
       "    </tr>\n",
       "    <tr>\n",
       "      <th>338</th>\n",
       "      <td>2</td>\n",
       "      <td>0</td>\n",
       "      <td>47.2</td>\n",
       "      <td>13.7</td>\n",
       "      <td>214.0</td>\n",
       "      <td>4925.0</td>\n",
       "      <td>1.0</td>\n",
       "      <td>7.99184</td>\n",
       "      <td>-26.20538</td>\n",
       "    </tr>\n",
       "    <tr>\n",
       "      <th>340</th>\n",
       "      <td>2</td>\n",
       "      <td>0</td>\n",
       "      <td>46.8</td>\n",
       "      <td>14.3</td>\n",
       "      <td>215.0</td>\n",
       "      <td>4850.0</td>\n",
       "      <td>1.0</td>\n",
       "      <td>8.41151</td>\n",
       "      <td>-26.13832</td>\n",
       "    </tr>\n",
       "    <tr>\n",
       "      <th>341</th>\n",
       "      <td>2</td>\n",
       "      <td>0</td>\n",
       "      <td>50.4</td>\n",
       "      <td>15.7</td>\n",
       "      <td>222.0</td>\n",
       "      <td>5750.0</td>\n",
       "      <td>0.0</td>\n",
       "      <td>8.30166</td>\n",
       "      <td>-26.04117</td>\n",
       "    </tr>\n",
       "    <tr>\n",
       "      <th>342</th>\n",
       "      <td>2</td>\n",
       "      <td>0</td>\n",
       "      <td>45.2</td>\n",
       "      <td>14.8</td>\n",
       "      <td>212.0</td>\n",
       "      <td>5200.0</td>\n",
       "      <td>1.0</td>\n",
       "      <td>8.24246</td>\n",
       "      <td>-26.11969</td>\n",
       "    </tr>\n",
       "    <tr>\n",
       "      <th>343</th>\n",
       "      <td>2</td>\n",
       "      <td>0</td>\n",
       "      <td>49.9</td>\n",
       "      <td>16.1</td>\n",
       "      <td>213.0</td>\n",
       "      <td>5400.0</td>\n",
       "      <td>0.0</td>\n",
       "      <td>8.36390</td>\n",
       "      <td>-26.15531</td>\n",
       "    </tr>\n",
       "  </tbody>\n",
       "</table>\n",
       "<p>324 rows × 9 columns</p>\n",
       "</div>"
      ],
      "text/plain": [
       "     Species  Island  Culmen Length (mm)  Culmen Depth (mm)  \\\n",
       "1          0       2                39.5               17.4   \n",
       "2          0       2                40.3               18.0   \n",
       "4          0       2                36.7               19.3   \n",
       "5          0       2                39.3               20.6   \n",
       "6          0       2                38.9               17.8   \n",
       "..       ...     ...                 ...                ...   \n",
       "338        2       0                47.2               13.7   \n",
       "340        2       0                46.8               14.3   \n",
       "341        2       0                50.4               15.7   \n",
       "342        2       0                45.2               14.8   \n",
       "343        2       0                49.9               16.1   \n",
       "\n",
       "     Flipper Length (mm)  Body Mass (g)  Sex  Delta 15 N (o/oo)  \\\n",
       "1                  186.0         3800.0  1.0            8.94956   \n",
       "2                  195.0         3250.0  1.0            8.36821   \n",
       "4                  193.0         3450.0  1.0            8.76651   \n",
       "5                  190.0         3650.0  0.0            8.66496   \n",
       "6                  181.0         3625.0  1.0            9.18718   \n",
       "..                   ...            ...  ...                ...   \n",
       "338                214.0         4925.0  1.0            7.99184   \n",
       "340                215.0         4850.0  1.0            8.41151   \n",
       "341                222.0         5750.0  0.0            8.30166   \n",
       "342                212.0         5200.0  1.0            8.24246   \n",
       "343                213.0         5400.0  0.0            8.36390   \n",
       "\n",
       "     Delta 13 C (o/oo)  \n",
       "1            -24.69454  \n",
       "2            -25.33302  \n",
       "4            -25.32426  \n",
       "5            -25.29805  \n",
       "6            -25.21799  \n",
       "..                 ...  \n",
       "338          -26.20538  \n",
       "340          -26.13832  \n",
       "341          -26.04117  \n",
       "342          -26.11969  \n",
       "343          -26.15531  \n",
       "\n",
       "[324 rows x 9 columns]"
      ]
     },
     "execution_count": 3,
     "metadata": {},
     "output_type": "execute_result"
    }
   ],
   "source": [
    "df = clean_data(penguins)\n",
    "df # clean data frame with numbered characteristics"
   ]
  },
  {
   "cell_type": "markdown",
   "metadata": {},
   "source": [
    "\n"
   ]
  },
  {
   "cell_type": "markdown",
   "metadata": {},
   "source": [
    "# Exploratory Analysis"
   ]
  },
  {
   "cell_type": "code",
   "execution_count": 4,
   "metadata": {},
   "outputs": [],
   "source": [
    "# making another clean data set for exploratory analysis below \n",
    "species_labels2 = { 'Adelie Penguin (Pygoscelis adeliae)': 'Adelie',\n",
    "                   'Chinstrap penguin (Pygoscelis antarctica)': 'Chinstrap',\n",
    "                   'Gentoo penguin (Pygoscelis papua)': 'Gentoo' }\n",
    "    \n",
    "sex_labels2 = { \"MALE\": 'M',\n",
    "               \"FEMALE\": 'F',\n",
    "                \".\": np.nan }\n",
    "\n",
    "p_clean = penguins.copy()\n",
    "p_clean[\"Species\"] = p_clean[\"Species\"].map(species_labels2)\n",
    "p_clean[\"Sex\"] = p_clean[\"Sex\"].map(sex_labels2)"
   ]
  },
  {
   "cell_type": "markdown",
   "metadata": {},
   "source": [
    "## 1.  Summary Tables"
   ]
  },
  {
   "cell_type": "code",
   "execution_count": 5,
   "metadata": {},
   "outputs": [],
   "source": [
    "# function to plot summary tables\n",
    "def penguin_summary_table(group_cols,value_cols):\n",
    "    \n",
    "    \"\"\"\n",
    "    This function groups the data according to group_cols, and \n",
    "    returns the mean of the values in value_cols.\n",
    "    \n",
    "    \"\"\"\n",
    "    penguins1 = p_clean.groupby(group_cols)[value_cols].mean()\n",
    "    \n",
    "    return penguins1.round(2)"
   ]
  },
  {
   "cell_type": "markdown",
   "metadata": {},
   "source": [
    "\n"
   ]
  },
  {
   "cell_type": "markdown",
   "metadata": {},
   "source": [
    "#### A. Culmen Length and Culmen Depth by Species and Sex"
   ]
  },
  {
   "cell_type": "code",
   "execution_count": 6,
   "metadata": {},
   "outputs": [
    {
     "data": {
      "text/html": [
       "<div>\n",
       "<style scoped>\n",
       "    .dataframe tbody tr th:only-of-type {\n",
       "        vertical-align: middle;\n",
       "    }\n",
       "\n",
       "    .dataframe tbody tr th {\n",
       "        vertical-align: top;\n",
       "    }\n",
       "\n",
       "    .dataframe thead th {\n",
       "        text-align: right;\n",
       "    }\n",
       "</style>\n",
       "<table border=\"1\" class=\"dataframe\">\n",
       "  <thead>\n",
       "    <tr style=\"text-align: right;\">\n",
       "      <th></th>\n",
       "      <th></th>\n",
       "      <th>Culmen Length (mm)</th>\n",
       "      <th>Culmen Depth (mm)</th>\n",
       "    </tr>\n",
       "    <tr>\n",
       "      <th>Species</th>\n",
       "      <th>Sex</th>\n",
       "      <th></th>\n",
       "      <th></th>\n",
       "    </tr>\n",
       "  </thead>\n",
       "  <tbody>\n",
       "    <tr>\n",
       "      <th rowspan=\"2\" valign=\"top\">Adelie</th>\n",
       "      <th>F</th>\n",
       "      <td>37.26</td>\n",
       "      <td>17.62</td>\n",
       "    </tr>\n",
       "    <tr>\n",
       "      <th>M</th>\n",
       "      <td>40.39</td>\n",
       "      <td>19.07</td>\n",
       "    </tr>\n",
       "    <tr>\n",
       "      <th rowspan=\"2\" valign=\"top\">Chinstrap</th>\n",
       "      <th>F</th>\n",
       "      <td>46.57</td>\n",
       "      <td>17.59</td>\n",
       "    </tr>\n",
       "    <tr>\n",
       "      <th>M</th>\n",
       "      <td>51.09</td>\n",
       "      <td>19.25</td>\n",
       "    </tr>\n",
       "    <tr>\n",
       "      <th rowspan=\"2\" valign=\"top\">Gentoo</th>\n",
       "      <th>F</th>\n",
       "      <td>45.56</td>\n",
       "      <td>14.24</td>\n",
       "    </tr>\n",
       "    <tr>\n",
       "      <th>M</th>\n",
       "      <td>49.47</td>\n",
       "      <td>15.72</td>\n",
       "    </tr>\n",
       "  </tbody>\n",
       "</table>\n",
       "</div>"
      ],
      "text/plain": [
       "               Culmen Length (mm)  Culmen Depth (mm)\n",
       "Species   Sex                                       \n",
       "Adelie    F                 37.26              17.62\n",
       "          M                 40.39              19.07\n",
       "Chinstrap F                 46.57              17.59\n",
       "          M                 51.09              19.25\n",
       "Gentoo    F                 45.56              14.24\n",
       "          M                 49.47              15.72"
      ]
     },
     "execution_count": 6,
     "metadata": {},
     "output_type": "execute_result"
    }
   ],
   "source": [
    "penguin_summary_table([\"Species\",\"Sex\"],[\"Culmen Length (mm)\",\"Culmen Depth (mm)\"])"
   ]
  },
  {
   "cell_type": "markdown",
   "metadata": {},
   "source": [
    "#### Analysis:\n",
    "\n",
    "1. On average male penguins have longer culmen lengths than female penguins in the same species.\n",
    "2. On average male penguins have longer culmen depth than female penguins in the same species."
   ]
  },
  {
   "cell_type": "markdown",
   "metadata": {},
   "source": [
    "\n"
   ]
  },
  {
   "cell_type": "markdown",
   "metadata": {},
   "source": [
    "#### B. Flipper Length and Body Mass by Species and Sex"
   ]
  },
  {
   "cell_type": "code",
   "execution_count": 7,
   "metadata": {},
   "outputs": [
    {
     "data": {
      "text/html": [
       "<div>\n",
       "<style scoped>\n",
       "    .dataframe tbody tr th:only-of-type {\n",
       "        vertical-align: middle;\n",
       "    }\n",
       "\n",
       "    .dataframe tbody tr th {\n",
       "        vertical-align: top;\n",
       "    }\n",
       "\n",
       "    .dataframe thead th {\n",
       "        text-align: right;\n",
       "    }\n",
       "</style>\n",
       "<table border=\"1\" class=\"dataframe\">\n",
       "  <thead>\n",
       "    <tr style=\"text-align: right;\">\n",
       "      <th></th>\n",
       "      <th></th>\n",
       "      <th>Flipper Length (mm)</th>\n",
       "      <th>Body Mass (g)</th>\n",
       "    </tr>\n",
       "    <tr>\n",
       "      <th>Species</th>\n",
       "      <th>Sex</th>\n",
       "      <th></th>\n",
       "      <th></th>\n",
       "    </tr>\n",
       "  </thead>\n",
       "  <tbody>\n",
       "    <tr>\n",
       "      <th rowspan=\"2\" valign=\"top\">Adelie</th>\n",
       "      <th>F</th>\n",
       "      <td>187.79</td>\n",
       "      <td>3368.84</td>\n",
       "    </tr>\n",
       "    <tr>\n",
       "      <th>M</th>\n",
       "      <td>192.41</td>\n",
       "      <td>4043.49</td>\n",
       "    </tr>\n",
       "    <tr>\n",
       "      <th rowspan=\"2\" valign=\"top\">Chinstrap</th>\n",
       "      <th>F</th>\n",
       "      <td>191.74</td>\n",
       "      <td>3527.21</td>\n",
       "    </tr>\n",
       "    <tr>\n",
       "      <th>M</th>\n",
       "      <td>199.91</td>\n",
       "      <td>3938.97</td>\n",
       "    </tr>\n",
       "    <tr>\n",
       "      <th rowspan=\"2\" valign=\"top\">Gentoo</th>\n",
       "      <th>F</th>\n",
       "      <td>212.71</td>\n",
       "      <td>4679.74</td>\n",
       "    </tr>\n",
       "    <tr>\n",
       "      <th>M</th>\n",
       "      <td>221.54</td>\n",
       "      <td>5484.84</td>\n",
       "    </tr>\n",
       "  </tbody>\n",
       "</table>\n",
       "</div>"
      ],
      "text/plain": [
       "               Flipper Length (mm)  Body Mass (g)\n",
       "Species   Sex                                    \n",
       "Adelie    F                 187.79        3368.84\n",
       "          M                 192.41        4043.49\n",
       "Chinstrap F                 191.74        3527.21\n",
       "          M                 199.91        3938.97\n",
       "Gentoo    F                 212.71        4679.74\n",
       "          M                 221.54        5484.84"
      ]
     },
     "execution_count": 7,
     "metadata": {},
     "output_type": "execute_result"
    }
   ],
   "source": [
    "penguin_summary_table([\"Species\",\"Sex\"],[\"Flipper Length (mm)\", \"Body Mass (g)\"])"
   ]
  },
  {
   "cell_type": "markdown",
   "metadata": {},
   "source": [
    "#### Analysis:\n",
    "\n",
    "1. On average male penguins have longer flipper lengths than female penguins in the same species.\n",
    "\n",
    "2. On average male penguins have  larger body mass than female penguins in the same species.\n",
    "\n",
    "3. The average flipper lengths of Adelie and Chinstrap penguins are similar. Gentoo penguins have longest flippers across all 3 species on average."
   ]
  },
  {
   "cell_type": "markdown",
   "metadata": {},
   "source": [
    "\n"
   ]
  },
  {
   "cell_type": "markdown",
   "metadata": {},
   "source": [
    "#### C. Delta 15 and Delta 13 by Species and Sex"
   ]
  },
  {
   "cell_type": "code",
   "execution_count": 8,
   "metadata": {},
   "outputs": [
    {
     "data": {
      "text/html": [
       "<div>\n",
       "<style scoped>\n",
       "    .dataframe tbody tr th:only-of-type {\n",
       "        vertical-align: middle;\n",
       "    }\n",
       "\n",
       "    .dataframe tbody tr th {\n",
       "        vertical-align: top;\n",
       "    }\n",
       "\n",
       "    .dataframe thead th {\n",
       "        text-align: right;\n",
       "    }\n",
       "</style>\n",
       "<table border=\"1\" class=\"dataframe\">\n",
       "  <thead>\n",
       "    <tr style=\"text-align: right;\">\n",
       "      <th></th>\n",
       "      <th></th>\n",
       "      <th>Delta 15 N (o/oo)</th>\n",
       "      <th>Delta 13 C (o/oo)</th>\n",
       "    </tr>\n",
       "    <tr>\n",
       "      <th>Species</th>\n",
       "      <th>Sex</th>\n",
       "      <th></th>\n",
       "      <th></th>\n",
       "    </tr>\n",
       "  </thead>\n",
       "  <tbody>\n",
       "    <tr>\n",
       "      <th rowspan=\"2\" valign=\"top\">Adelie</th>\n",
       "      <th>F</th>\n",
       "      <td>8.79</td>\n",
       "      <td>-25.79</td>\n",
       "    </tr>\n",
       "    <tr>\n",
       "      <th>M</th>\n",
       "      <td>8.93</td>\n",
       "      <td>-25.83</td>\n",
       "    </tr>\n",
       "    <tr>\n",
       "      <th rowspan=\"2\" valign=\"top\">Chinstrap</th>\n",
       "      <th>F</th>\n",
       "      <td>9.25</td>\n",
       "      <td>-24.57</td>\n",
       "    </tr>\n",
       "    <tr>\n",
       "      <th>M</th>\n",
       "      <td>9.46</td>\n",
       "      <td>-24.53</td>\n",
       "    </tr>\n",
       "    <tr>\n",
       "      <th rowspan=\"2\" valign=\"top\">Gentoo</th>\n",
       "      <th>F</th>\n",
       "      <td>8.19</td>\n",
       "      <td>-26.20</td>\n",
       "    </tr>\n",
       "    <tr>\n",
       "      <th>M</th>\n",
       "      <td>8.30</td>\n",
       "      <td>-26.17</td>\n",
       "    </tr>\n",
       "  </tbody>\n",
       "</table>\n",
       "</div>"
      ],
      "text/plain": [
       "               Delta 15 N (o/oo)  Delta 13 C (o/oo)\n",
       "Species   Sex                                      \n",
       "Adelie    F                 8.79             -25.79\n",
       "          M                 8.93             -25.83\n",
       "Chinstrap F                 9.25             -24.57\n",
       "          M                 9.46             -24.53\n",
       "Gentoo    F                 8.19             -26.20\n",
       "          M                 8.30             -26.17"
      ]
     },
     "execution_count": 8,
     "metadata": {},
     "output_type": "execute_result"
    }
   ],
   "source": [
    "penguin_summary_table([\"Species\",\"Sex\"],[\"Delta 15 N (o/oo)\",\"Delta 13 C (o/oo)\"])"
   ]
  },
  {
   "cell_type": "markdown",
   "metadata": {},
   "source": [
    "#### Analysis:\n",
    "\n",
    "1. On average male penguins have a higher concentration of Delta 15 N (o/oo) than female penguins in the same species.\n",
    "2. On average male penguins have same Delta 13 C (o/oo) as that of female penguins in the same species.\n"
   ]
  },
  {
   "cell_type": "markdown",
   "metadata": {},
   "source": [
    "\n"
   ]
  },
  {
   "cell_type": "markdown",
   "metadata": {},
   "source": [
    "## 2. Charts "
   ]
  },
  {
   "cell_type": "markdown",
   "metadata": {},
   "source": [
    "\n",
    "### A. Plotting Culmen Length against Culmen Depth"
   ]
  },
  {
   "cell_type": "code",
   "execution_count": 9,
   "metadata": {},
   "outputs": [
    {
     "data": {
      "text/plain": [
       "<matplotlib.legend.Legend at 0x123031e80>"
      ]
     },
     "execution_count": 9,
     "metadata": {},
     "output_type": "execute_result"
    },
    {
     "data": {
      "image/png": "[encoded data removed]",
      "text/plain": [
       "<Figure size 432x288 with 1 Axes>"
      ]
     },
     "metadata": {
      "needs_background": "light"
     },
     "output_type": "display_data"
    }
   ],
   "source": [
    "# Plotting Culmen Length against Culmen Depth\n",
    "from matplotlib import pyplot as plt\n",
    "fig, ax = plt.subplots(1)\n",
    "\n",
    "species = list(set(p_clean[\"Species\"]))\n",
    "counter = 0 \n",
    "\n",
    "for s in species:\n",
    "    ax.scatter(p_clean[p_clean[\"Species\"] == str(s)][\"Culmen Length (mm)\"], \n",
    "               p_clean[p_clean[\"Species\"] == str(s)][\"Culmen Depth (mm)\"],\n",
    "               label = str(s)) \n",
    "    ax.set(xlabel = \"Culmen Length\", ylabel = \"Culmen Depth\", \n",
    "           title = \"Culmen Length and Culmen Depth by Species\"\n",
    "          )\n",
    "    counter += 1\n",
    "    \n",
    "ax.legend(loc='upper right', bbox_to_anchor=(1.27, 1.03), ncol=1)"
   ]
  },
  {
   "cell_type": "markdown",
   "metadata": {},
   "source": [
    "#### Analysis:\n",
    "\n",
    "1. There seems to be an positive association between Culmen Length and Culmen Depth within the same species.\n",
    "\n",
    "2. Given Culmen Length and Culmen Depth, the penguins species are almost distinctively clustered."
   ]
  },
  {
   "cell_type": "markdown",
   "metadata": {},
   "source": [
    "\n",
    "### B. Plotting Culmen Length and Culmen Depth Histograms"
   ]
  },
  {
   "cell_type": "code",
   "execution_count": 10,
   "metadata": {},
   "outputs": [
    {
     "data": {
      "image/png": "[encoded data removed]",
      "text/plain": [
       "<Figure size 720x576 with 2 Axes>"
      ]
     },
     "metadata": {
      "needs_background": "light"
     },
     "output_type": "display_data"
    }
   ],
   "source": [
    "fig, ax = plt.subplots(2, figsize = (10,8))\n",
    "for s in species:\n",
    "    \n",
    "    current = p_clean[p_clean[\"Culmen Length (mm)\"].notnull()] \n",
    "    ax[0].hist(current[current[\"Species\"] == str(s)][\"Culmen Length (mm)\"],alpha = 0.5, label = str(s))\n",
    "    ax[0].set(ylabel = \"Density\", xlabel = \"Culmen Length\")\n",
    "    \n",
    "    current = p_clean[p_clean[\"Culmen Depth (mm)\"].notnull()] \n",
    "    ax[1].hist(current[current[\"Species\"] == str(s)][\"Culmen Depth (mm)\"], alpha = 0.5, label = str(s))\n",
    "    ax[1].set(ylabel = \"Density\", xlabel = \"Culmen Depth\")\n",
    "    \n",
    "    ax[0].legend()\n",
    "    ax[1].legend()"
   ]
  },
  {
   "cell_type": "markdown",
   "metadata": {},
   "source": [
    "#### Analysis:\n",
    "\n",
    "1. From the figure, Adelie and Gentoo have distinct Culmen Lengths on average. \n",
    "\n",
    "2. Given a specific species, the distribution of Culmen Length appears to be a normal distribution. \n",
    "\n",
    "3. Chinstrap and Gentoo have similar Culmen Lengths on average."
   ]
  },
  {
   "cell_type": "markdown",
   "metadata": {},
   "source": [
    "\n",
    "### C. Population Density across Species and Islands"
   ]
  },
  {
   "cell_type": "code",
   "execution_count": 11,
   "metadata": {},
   "outputs": [
    {
     "data": {
      "text/plain": [
       "<matplotlib.legend.Legend at 0x1234657f0>"
      ]
     },
     "execution_count": 11,
     "metadata": {},
     "output_type": "execute_result"
    },
    {
     "data": {
      "image/png": "[encoded data removed]",
      "text/plain": [
       "<Figure size 1080x360 with 1 Axes>"
      ]
     },
     "metadata": {
      "needs_background": "light"
     },
     "output_type": "display_data"
    }
   ],
   "source": [
    "fig, ax = plt.subplots(1, figsize = (15, 5)) \n",
    "regions = list(set(penguins[\"Island\"]))\n",
    "for region in regions:\n",
    "    current1 = p_clean[p_clean[\"Island\"] == str(region)] \n",
    "    for s in species:\n",
    "        current = current1[current1[\"Culmen Length (mm)\"].notnull()] \n",
    "        ax.hist(current[current[\"Species\"] == str(s)][\"Culmen Length (mm)\"],\n",
    "               label = str(region)+\", \"+ str(s.split()[0]),\n",
    "               alpha = 0.7)\n",
    "        ax.set(ylabel = \"Density\") \n",
    "                 \n",
    "ax.legend()"
   ]
  },
  {
   "cell_type": "markdown",
   "metadata": {},
   "source": [
    "#### Analysis:\n",
    "\n",
    "1. Each island inhabits at most 2 species. \n",
    "\n",
    "    Torgersen island is inhabited by only Adelie penguins.\n",
    "    \n",
    "    Biscoe island is inhabited by Gentoo and Adelie penguins.\n",
    "    \n",
    "    Dream island is inhabited by Chinstrap and Adelie penguins.\n",
    "    \n",
    "\n",
    "2. From the density, the largest group of penguins in the data set is the Gentoo penguins on Biscoe Island. The second largest population in our data set is the Adelie penguins on Biscoe Island.\n"
   ]
  },
  {
   "cell_type": "markdown",
   "metadata": {},
   "source": [
    "\n",
    "\n"
   ]
  },
  {
   "cell_type": "markdown",
   "metadata": {},
   "source": [
    "\n",
    "# Model 1: Linear Regression"
   ]
  },
  {
   "cell_type": "markdown",
   "metadata": {},
   "source": [
    "![title](LR.png)"
   ]
  },
  {
   "cell_type": "markdown",
   "metadata": {},
   "source": [
    "### Splitting Data into Training & Test Sets"
   ]
  },
  {
   "cell_type": "markdown",
   "metadata": {},
   "source": [
    "The data is going to be split into 2 subsets:\n",
    "\n",
    "1. The training set - this is the subset that our model will train upon.\n",
    "2. The test set -  this is the subset upon which we will test our model and measure its prediction accuracy.\n",
    "\n",
    "We are going to hold out 70% of data for training our model and 30% for testing it."
   ]
  },
  {
   "cell_type": "code",
   "execution_count": 12,
   "metadata": {},
   "outputs": [],
   "source": [
    "from sklearn.model_selection import train_test_split\n",
    "import warnings\n",
    "warnings.filterwarnings(\"ignore\")\n",
    "\n",
    "train, test = train_test_split(df, test_size = 0.3) # hold out 30% data for testing\n",
    "\n",
    "cols = list(df.columns) # list of all our columns \n",
    "del cols[0] # delete the Species column\n",
    "\n",
    "# making our training and testing data sets\n",
    "X_train = train[cols]\n",
    "y_train = train[[\"Species\"]]\n",
    "\n",
    "X_test = test[cols]\n",
    "y_test = test[[\"Species\"]]"
   ]
  },
  {
   "cell_type": "markdown",
   "metadata": {},
   "source": [
    "### Feature Selection\n",
    "\n",
    "To train our model we are going to find the optimal combination of three column variables. If the prediction accuracy for 3-column combinations is not desirable, we can look for 4-column combinations and so on. We will use K-Fold Cross Validation to ascertain average prediction accuracy of different combinations of columns.\n",
    "\n",
    "Our custom function feature_select is going to perform this task for us and output the 5 best and worst 3-column combinations."
   ]
  },
  {
   "cell_type": "code",
   "execution_count": 13,
   "metadata": {},
   "outputs": [],
   "source": [
    "from itertools import combinations\n",
    "from sklearn.model_selection import cross_val_score\n",
    "from sklearn.linear_model import LogisticRegression \n",
    "\n",
    "# feature_select function\n",
    "def feature_select(model, X_train, y_train, cols):\n",
    "    \n",
    "    \"\"\"\n",
    "    This function takes a ML model, training data, and predictor columns as input. \n",
    "    It outputs the top five and worst five 3-column combinations ranked on the basis of average\n",
    "    prediction accuracy.\n",
    "    \n",
    "    \"\"\"\n",
    "\n",
    "    y_train_copy = np.ravel(y_train) # to avoid warning message, need continous arrays\n",
    "    \n",
    "    best_score = -np.inf # the best score\n",
    "    best_combo = [] # the best combination of three of our columns\n",
    "    all_combos = dict() # this dictionary stores all combinations of columns (key) and their respective CV score (value)\n",
    "    \n",
    "    combos = [\",\".join(map(str, comb)) for comb in combinations(cols, 3)] # making combinations of three columns\n",
    "    \n",
    "    # determining the best CV score and column combination\n",
    "    for i in range(len(combos)):\n",
    "        \n",
    "        x_train = X_train[combos[i].split(\",\")] # training data with the 3 columns \n",
    "        score = cross_val_score(model, x_train, y_train_copy, cv = 10).mean() # average prediction score\n",
    "        all_combos[str(combos[i])] = score\n",
    "        \n",
    "        if score > best_score:\n",
    "            best_score = score\n",
    "            best_combo.append(combos[i])\n",
    "            \n",
    "            \n",
    "    all_combos = sorted(all_combos.items(), key=lambda x: x[1]) # sort the all_combos based on score\n",
    "    a = len(all_combos)-1  # for easy indexing of all_combos, see below\n",
    "\n",
    "    # displaying output of top 5 and worst 5 combos of predictor columns\n",
    "    print(\"\\nThe top five 3-column combinations and CV scores are: \" + \"\\n\")\n",
    "    for i in range(5):\n",
    "        print(str(i+1)+ \". \" + str(all_combos[a-i][0]) + \": \" + str(round(all_combos[a-i][1],3)) + \"\\n\")\n",
    "        \n",
    "    print(\"\\nThe worst five 3-column combinations and CV scores are: \" + \"\\n\")\n",
    "    for i in range(5):\n",
    "        print(str(i+1)+ \". \" + str(all_combos[i][0]) + \": \" + str(round(all_combos[i][1],3)) + \"\\n\")\n",
    "    \n",
    "    print(\"\\nBest Predictors are: \" + str(best_combo[len(best_combo)-1]))\n",
    "    print(\"\\nBest CV Score is: \" + str(round(best_score,3)))"
   ]
  },
  {
   "cell_type": "code",
   "execution_count": 14,
   "metadata": {},
   "outputs": [
    {
     "name": "stdout",
     "output_type": "stream",
     "text": [
      "\n",
      "The top five 3-column combinations and CV scores are: \n",
      "\n",
      "1. Culmen Length (mm),Culmen Depth (mm),Delta 13 C (o/oo): 0.996\n",
      "\n",
      "2. Culmen Length (mm),Culmen Depth (mm),Body Mass (g): 0.987\n",
      "\n",
      "3. Culmen Length (mm),Culmen Depth (mm),Flipper Length (mm): 0.978\n",
      "\n",
      "4. Culmen Length (mm),Flipper Length (mm),Delta 15 N (o/oo): 0.978\n",
      "\n",
      "5. Culmen Length (mm),Culmen Depth (mm),Delta 15 N (o/oo): 0.978\n",
      "\n",
      "\n",
      "The worst five 3-column combinations and CV scores are: \n",
      "\n",
      "1. Island,Body Mass (g),Sex: 0.712\n",
      "\n",
      "2. Island,Flipper Length (mm),Body Mass (g): 0.739\n",
      "\n",
      "3. Flipper Length (mm),Body Mass (g),Sex: 0.757\n",
      "\n",
      "4. Island,Sex,Delta 15 N (o/oo): 0.761\n",
      "\n",
      "5. Body Mass (g),Sex,Delta 13 C (o/oo): 0.783\n",
      "\n",
      "\n",
      "Best Predictors are: Culmen Length (mm),Culmen Depth (mm),Delta 13 C (o/oo)\n",
      "\n",
      "Best CV Score is: 0.996\n"
     ]
    }
   ],
   "source": [
    "# using feature_select\n",
    "\n",
    "LR = LogisticRegression() # make an instance of the model\n",
    "\n",
    "feature_select(LR, X_train, y_train, cols)"
   ]
  },
  {
   "cell_type": "code",
   "execution_count": 15,
   "metadata": {},
   "outputs": [],
   "source": [
    "# setting our training data to our optimal predictor columns\n",
    "X_train1 = X_train[[\"Culmen Length (mm)\", \"Culmen Depth (mm)\", \"Delta 13 C (o/oo)\" ]]\n",
    "X_test1 = X_test[[\"Culmen Length (mm)\", \"Culmen Depth (mm)\", \"Delta 13 C (o/oo)\" ]]"
   ]
  },
  {
   "cell_type": "markdown",
   "metadata": {},
   "source": [
    "### Determining Optimal Complexity\n",
    "\n",
    "We will perfrom K-Fold Cross Validation in order to determine the complexity value for our Logistic Regression model. Optimacy is determined according to prediction accuracy.\n",
    "\n",
    "The idea of K-Fold Cross Validation is to take a small piece of our training data, say 10%, and use that as a mini test set. We train the model on the remaining 90%, and then evaluate on the 10%. We then take a different 10%, train on the remaining 90%, and so on. We do this many times, and finally average the results to get an overall average picture of how the model might be expected to perform on the real test set. "
   ]
  },
  {
   "cell_type": "code",
   "execution_count": 16,
   "metadata": {},
   "outputs": [
    {
     "data": {
      "image/png": "[encoded data removed]",
      "text/plain": [
       "<Figure size 432x288 with 1 Axes>"
      ]
     },
     "metadata": {
      "needs_background": "light"
     },
     "output_type": "display_data"
    }
   ],
   "source": [
    "fig,ax = plt.subplots(1)\n",
    "\n",
    "c_values = np.arange(1,21) # create an array of complexity values \n",
    "\n",
    "best_score = -np.inf\n",
    "best_c = 0\n",
    "\n",
    "# implementing the k-fold cross validation\n",
    "for i in np.linspace(0.005,5,20):\n",
    "    LR = LogisticRegression(C=i)\n",
    "    cv_score = cross_val_score(LR, X_train1, y_train, cv = 20).mean()\n",
    "    ax.scatter(i, cv_score, color = \"black\")\n",
    "    if cv_score > best_score:\n",
    "        best_c = i\n",
    "        best_score = cv_score\n",
    "\n",
    "l = ax.set(title = \"Best C : \" + str(round(best_c,2)) + \", Best Score : \" + str(round(best_score,3)),\n",
    "       xlabel = \"Complexity\", \n",
    "       ylabel = \"CV Score\")"
   ]
  },
  {
   "cell_type": "markdown",
   "metadata": {},
   "source": [
    "### Evaluating Model on Test Data"
   ]
  },
  {
   "cell_type": "code",
   "execution_count": 17,
   "metadata": {},
   "outputs": [
    {
     "name": "stdout",
     "output_type": "stream",
     "text": [
      "The prediction accuracy is: 1.0\n"
     ]
    }
   ],
   "source": [
    "LR = LogisticRegression(C = best_score)\n",
    "\n",
    "LR.fit(X_train1, y_train)\n",
    "\n",
    "print(\"The prediction accuracy is: \" + str(round(LR.score(X_test1, y_test), 3)))"
   ]
  },
  {
   "cell_type": "markdown",
   "metadata": {},
   "source": [
    "#### The Logistic Regression model predicts the species of unseen penguins with 100% precision."
   ]
  },
  {
   "cell_type": "markdown",
   "metadata": {},
   "source": [
    "\n"
   ]
  },
  {
   "cell_type": "markdown",
   "metadata": {},
   "source": [
    "# Model 2: Deep Neural Network"
   ]
  },
  {
   "cell_type": "markdown",
   "metadata": {},
   "source": [
    "![title](DL.jpg)"
   ]
  },
  {
   "cell_type": "markdown",
   "metadata": {},
   "source": [
    "### Splitting Data into Training & Test Sets"
   ]
  },
  {
   "cell_type": "code",
   "execution_count": 258,
   "metadata": {},
   "outputs": [],
   "source": [
    "train, test = train_test_split(df, test_size = 0.2) # hold out 20% data for testing\n",
    "\n",
    "cols = list(df.columns) # list all columns \n",
    "del cols[0] # delete the Species column\n",
    "\n",
    "# making our training and testing data sets\n",
    "X_train = train[cols]\n",
    "y_train = train[[\"Species\"]]\n",
    "\n",
    "X_test = test[cols]\n",
    "y_test = test[[\"Species\"]]"
   ]
  },
  {
   "cell_type": "markdown",
   "metadata": {},
   "source": [
    "### Feature Selection"
   ]
  },
  {
   "cell_type": "code",
   "execution_count": 259,
   "metadata": {},
   "outputs": [
    {
     "name": "stdout",
     "output_type": "stream",
     "text": [
      "\n",
      "The top five 3-column combinations and CV scores are: \n",
      "\n",
      "1. Culmen Length (mm),Culmen Depth (mm),Delta 13 C (o/oo): 0.984\n",
      "\n",
      "2. Culmen Length (mm),Culmen Depth (mm),Flipper Length (mm): 0.981\n",
      "\n",
      "3. Island,Culmen Length (mm),Sex: 0.977\n",
      "\n",
      "4. Island,Culmen Length (mm),Culmen Depth (mm): 0.977\n",
      "\n",
      "5. Island,Culmen Length (mm),Delta 15 N (o/oo): 0.973\n",
      "\n",
      "\n",
      "The worst five 3-column combinations and CV scores are: \n",
      "\n",
      "1. Island,Culmen Length (mm),Body Mass (g): 0.429\n",
      "\n",
      "2. Island,Culmen Depth (mm),Body Mass (g): 0.429\n",
      "\n",
      "3. Island,Flipper Length (mm),Body Mass (g): 0.429\n",
      "\n",
      "4. Island,Body Mass (g),Delta 15 N (o/oo): 0.429\n",
      "\n",
      "5. Island,Body Mass (g),Delta 13 C (o/oo): 0.429\n",
      "\n",
      "\n",
      "Best Predictors are: Culmen Length (mm),Culmen Depth (mm),Delta 13 C (o/oo)\n",
      "\n",
      "Best CV Score is: 0.984\n"
     ]
    }
   ],
   "source": [
    "from sklearn.neural_network import MLPClassifier\n",
    "\n",
    "# make an instance of our model\n",
    "dnn = MLPClassifier(solver = \"lbfgs\", alpha = 1e-9, random_state = 0)\n",
    "\n",
    "# Using feature_select on training data\n",
    "feature_select(dnn, X_train, y_train, cols)"
   ]
  },
  {
   "cell_type": "markdown",
   "metadata": {},
   "source": [
    "#### Result:\n",
    "\n",
    "The best 3-column combination with highest prediction accuracy is:\n",
    "\n",
    "Culmen Length, Culmen Depth, and Delta 13 C (o/oo)\n",
    "\n",
    "A combination of these 3 columns returns an average prediction accuracy of 98.5% on our training data.\n"
   ]
  },
  {
   "cell_type": "code",
   "execution_count": 260,
   "metadata": {},
   "outputs": [],
   "source": [
    "# setting training data to optimal predictor columns\n",
    "X_train1 = X_train[[\"Culmen Length (mm)\",\"Culmen Depth (mm)\", \"Delta 13 C (o/oo)\" ]]\n",
    "X_test1 = X_test[[\"Culmen Length (mm)\",\"Culmen Depth (mm)\", \"Delta 13 C (o/oo)\" ]]"
   ]
  },
  {
   "cell_type": "markdown",
   "metadata": {},
   "source": [
    "### Determining Optimal Hidden Layers"
   ]
  },
  {
   "cell_type": "markdown",
   "metadata": {},
   "source": [
    "We will perfrom K-Fold Cross Validation first in order to determine the optimal number of hidden layers for our deep neural network. Optimacy is determined according to prediction accuracy."
   ]
  },
  {
   "cell_type": "code",
   "execution_count": 261,
   "metadata": {},
   "outputs": [
    {
     "data": {
      "image/png": "[encoded data removed]",
      "text/plain": [
       "<Figure size 432x288 with 1 Axes>"
      ]
     },
     "metadata": {
      "needs_background": "light"
     },
     "output_type": "display_data"
    }
   ],
   "source": [
    "fig, ax = plt.subplots(1)\n",
    "\n",
    "best_score = 0\n",
    "best_size = 0\n",
    "\n",
    "# iterating over different hidden layer sizes \n",
    "for d in range(5,15):\n",
    "     \n",
    "    nn = MLPClassifier(solver = \"lbfgs\", alpha = 1e-9, random_state = 0, hidden_layer_sizes = (d,d,d))\n",
    "    cv_score = cross_val_score(nn, X_train1, y_train, cv = 5).mean()\n",
    "    \n",
    "    # draw the plot\n",
    "    ax.scatter(d, cv_score, color = \"black\")\n",
    "    if cv_score > best_score:\n",
    "        best_size = d\n",
    "        best_score = cv_score\n",
    "             \n",
    "# setting plot title, axis labels\n",
    "l = ax.set(title = \"Best hidden size : \" + str(best_size) + \"   Best Score : \" + str(round(best_score,2)),\n",
    "    xlabel = \"Hidden Sizes\", \n",
    "    ylabel = \"CV Score\")"
   ]
  },
  {
   "cell_type": "markdown",
   "metadata": {},
   "source": [
    "\n",
    "As we can see from the figure above, \n",
    "\n",
    "The optimal number of hidden layers is 14 resulting in average prediction accuracy of 99% on unseen data.\n",
    "\n",
    "Now that we have this value, we can evaluate our model on the test data."
   ]
  },
  {
   "cell_type": "markdown",
   "metadata": {},
   "source": [
    "### Evaluating Model on Test Data"
   ]
  },
  {
   "cell_type": "code",
   "execution_count": 262,
   "metadata": {},
   "outputs": [
    {
     "name": "stdout",
     "output_type": "stream",
     "text": [
      "The prediction accuracy is: 1.0\n"
     ]
    }
   ],
   "source": [
    "dnn = MLPClassifier(solver = \"lbfgs\", \n",
    "                     alpha = 1e-9, \n",
    "                     hidden_layer_sizes = (best_size, best_size, best_size), \n",
    "                     random_state = 0) \n",
    "\n",
    "dnn.fit(X_train1, y_train)\n",
    "\n",
    "print(\"The prediction accuracy is: \" + str(round(dnn.score(X_test1, y_test), 3)))"
   ]
  },
  {
   "cell_type": "markdown",
   "metadata": {},
   "source": [
    "The deep neural network predicts penguin species with 100% accuracy."
   ]
  },
  {
   "cell_type": "markdown",
   "metadata": {},
   "source": [
    "\n",
    "\n"
   ]
  },
  {
   "cell_type": "markdown",
   "metadata": {},
   "source": [
    "# Model 3: Support Vector Classifiers"
   ]
  },
  {
   "cell_type": "markdown",
   "metadata": {},
   "source": [
    "![title](svc.jpg)"
   ]
  },
  {
   "cell_type": "markdown",
   "metadata": {},
   "source": [
    "### Splitting Data into Training & Test Sets"
   ]
  },
  {
   "cell_type": "code",
   "execution_count": 231,
   "metadata": {},
   "outputs": [],
   "source": [
    "train, test = train_test_split(df, test_size = 0.2) # hold out 20% data for testing\n",
    "\n",
    "cols = list(df.columns) # list all columns \n",
    "del cols[0] # delete the Species column\n",
    "\n",
    "# making our training and testing data sets\n",
    "X_train = train[cols]\n",
    "y_train = train[[\"Species\"]]\n",
    "\n",
    "X_test = test[cols]\n",
    "y_test = test[[\"Species\"]]"
   ]
  },
  {
   "cell_type": "markdown",
   "metadata": {},
   "source": [
    "### Feature Selection\n",
    "\n",
    "For this model we will use Island, Culmen Length, and Flipper Length as predictor variables.\n",
    "\n",
    "These variables have been chosen according to the results in the exploratory analysis."
   ]
  },
  {
   "cell_type": "code",
   "execution_count": 232,
   "metadata": {},
   "outputs": [],
   "source": [
    "# setting training data to optimal predictor columns\n",
    "X_train1 = X_train[[\"Culmen Length (mm)\", \"Flipper Length (mm)\", \"Island\" ]]\n",
    "X_test1 = X_test[[\"Culmen Length (mm)\", \"Flipper Length (mm)\", \"Island\" ]]"
   ]
  },
  {
   "cell_type": "markdown",
   "metadata": {},
   "source": [
    "### Determining Optimal Gamma"
   ]
  },
  {
   "cell_type": "markdown",
   "metadata": {},
   "source": [
    "We will perfrom K-Fold Cross Validation in order to determine the gamma for our model which gives the highest prediction accuracy on our training set."
   ]
  },
  {
   "cell_type": "code",
   "execution_count": 233,
   "metadata": {},
   "outputs": [
    {
     "data": {
      "image/png": "[encoded data removed]",
      "text/plain": [
       "<Figure size 432x288 with 1 Axes>"
      ]
     },
     "metadata": {
      "needs_background": "light"
     },
     "output_type": "display_data"
    }
   ],
   "source": [
    "fig, ax = plt.subplots(1)\n",
    "\n",
    "gamma_values = np.linspace(0.1,5,50) # create an array of gamma values\n",
    "\n",
    "best_score = -np.inf \n",
    "best_gamma = 0\n",
    "\n",
    "# implementing the k-fold cross validation\n",
    "for i in gamma_values:\n",
    "    svc = SVC(gamma = i)\n",
    "    cv_score = cross_val_score(svc, X_train1, y_train, cv = 5).mean() \n",
    "    ax.scatter(i, cv_score, color = \"black\")\n",
    "    if cv_score > best_score:\n",
    "        best_gamma = i \n",
    "        best_score = cv_score\n",
    "    \n",
    "l = ax.set(title = \"Best Gamma : \" + str(best_gamma) + \", Best Score : \" + str(round(best_score,3)),\n",
    "    xlabel = \"Gamma\", ylabel = \"CV Score\")\n",
    " "
   ]
  },
  {
   "cell_type": "markdown",
   "metadata": {},
   "source": [
    "We can see from the figure above: CV score is decreasing in gamma. This means that our model prediction accuracy tends to be higher when gamma is lower."
   ]
  },
  {
   "cell_type": "code",
   "execution_count": 234,
   "metadata": {},
   "outputs": [
    {
     "name": "stdout",
     "output_type": "stream",
     "text": [
      "The prediction accuracy is: 0.969\n"
     ]
    }
   ],
   "source": [
    "from sklearn.svm import SVC\n",
    "\n",
    "svc = SVC(gamma = best_gamma) \n",
    "\n",
    "svc.fit(X_train1, y_train)\n",
    "\n",
    "print(\"The prediction accuracy is: \" + str(round(svc.score(X_test1, y_test),3)))"
   ]
  },
  {
   "cell_type": "markdown",
   "metadata": {},
   "source": [
    "## Inspecting & Analyzing Wrong Predictions"
   ]
  },
  {
   "cell_type": "markdown",
   "metadata": {},
   "source": [
    "### A.  Confusion Matrix\n",
    "\n",
    "A good way to understand where a classification model is going wrong is via the confusion matrix. The confusion matrix is a simple visualization of the model's predictions against truth.\n",
    "\n",
    "The i,jth entry of this array gives the number of times that the model predicted species j when the species was in fact i."
   ]
  },
  {
   "cell_type": "code",
   "execution_count": 235,
   "metadata": {},
   "outputs": [
    {
     "data": {
      "text/plain": [
       "array([[22,  1,  1],\n",
       "       [ 0, 16,  0],\n",
       "       [ 0,  0, 25]])"
      ]
     },
     "execution_count": 235,
     "metadata": {},
     "output_type": "execute_result"
    }
   ],
   "source": [
    "y_test_preds = svc.predict(X_test1)\n",
    "c = confusion_matrix(y_test, y_test_preds)\n",
    "c"
   ]
  },
  {
   "cell_type": "markdown",
   "metadata": {},
   "source": [
    "#### Analysis:\n",
    "\n",
    "Adelie/Chinstrap =  1 mistake i.e. one Adelie was predicted Chinstrap\n",
    "\n",
    "Adelie/Gentoo =  1 mistake i.e. one Adelie was predicted Gentoo\n",
    "\n",
    "Gentoo/Chinstrap = 0 mistake\n",
    "\n",
    "Now, the question arises why is our model confusing both these species with each other? "
   ]
  },
  {
   "cell_type": "markdown",
   "metadata": {},
   "source": [
    "### B. Decision Regions\n",
    "\n",
    "We can use Decision Regions to visualize which parts of the data space our model assigns to each species.\n",
    "\n",
    "This function will train a model, and then ask it to classify each point on a 2d grid. "
   ]
  },
  {
   "cell_type": "code",
   "execution_count": 242,
   "metadata": {},
   "outputs": [],
   "source": [
    "def plot_regions(c, test):\n",
    "    \"\"\"\n",
    "    Plots the decision regions from a classifer \n",
    "    underneath the data in X and y. \n",
    "    c: a classifier\n",
    "    X: predictor variables\n",
    "    y: target variables\n",
    "    \"\"\"\n",
    "    fig,ax = plt.subplots(1,3,figsize = (17,5))\n",
    "    \n",
    "    ax[0].set(xlabel = \"Culmen Length (mm)\", ylabel = 'Flipper Length (mm)')\n",
    "    \n",
    "    island_labels = { \"0\": \"Biscoe\",\n",
    "                      \"1\" : \"Dream\",\n",
    "                      \"2\" : \"Torgersen\"\n",
    "                    }\n",
    "    X = test[['Culmen Length (mm)', 'Flipper Length (mm)']]\n",
    "    y = test['Species']\n",
    "    \n",
    "    # fit the model to the data\n",
    "    c.fit(X, y)\n",
    "    \n",
    "    for i in range(0,3):\n",
    "        X = test[['Culmen Length (mm)', 'Flipper Length (mm)']][test[\"Island\"] == i]\n",
    "        y = test['Species'][test[\"Island\"] == i]\n",
    "    \n",
    "        # for convenience, give names to the two \n",
    "        # columns of the data\n",
    "        x0 = X['Culmen Length (mm)']\n",
    "        x1 = X['Flipper Length (mm)']\n",
    "    \n",
    "    # create a grid\n",
    "        grid_x = np.linspace(x0.min(), x0.max(), 501)\n",
    "        grid_y = np.linspace(x1.min(), x1.max(), 501)\n",
    "        xx, yy = np.meshgrid(grid_x, grid_y)\n",
    "    \n",
    "    # extract model predictions, using the np.c_ attribute \n",
    "    #to join together the  two parts of the grid. array.ravel() \n",
    "    #converts an multidimensional array into a 1d array, and we use array.reshape()\n",
    "    #to turn the resulting predictions p back into 2d\n",
    "\n",
    "        p = c.predict(np.c_[xx.ravel(), yy.ravel()])\n",
    "        p = p.reshape(xx.shape)\n",
    "    \n",
    "    # use contour plot to visualize the predictions\n",
    "        ax[i].contourf(xx, yy, p, cmap = \"jet\", alpha = 0.2)\n",
    "    \n",
    "    # plot the data\n",
    "        ax[0].text(35, 165, \"Blue: Adelie\\nGreen: Chinstrap\\nRed: Gentoo\")\n",
    "        ax[i].scatter(x0, x1, c = y, cmap = \"jet\", vmin = 0, vmax = 2)\n",
    "        ax[i].set(title = \"Island: \" + str(island_labels[str(i)]))\n",
    "        "
   ]
  },
  {
   "cell_type": "code",
   "execution_count": 243,
   "metadata": {},
   "outputs": [
    {
     "data": {
      "image/png": "[encoded data removed]",
      "text/plain": [
       "<Figure size 1224x360 with 3 Axes>"
      ]
     },
     "metadata": {
      "needs_background": "light"
     },
     "output_type": "display_data"
    }
   ],
   "source": [
    "# plotting decision regions\n",
    "plot_regions(svc, test)"
   ]
  },
  {
   "cell_type": "markdown",
   "metadata": {},
   "source": [
    "In the above plots showing decision regions: \n",
    "\n",
    "Green Area = Chinstrap Penguin\n",
    "\n",
    "Blue Area = Adelie Penguin\n",
    "\n",
    "Red Area = Gentoo Penguin"
   ]
  },
  {
   "cell_type": "markdown",
   "metadata": {},
   "source": [
    "#### Remarks:\n",
    "1. On Biscoe Island (inhabited by Gentoo and Adelie): one Adelie penguin is confused as Chinstrap.\n",
    "\n",
    "2. On Dream island (inhabited by Chinstrap and Adelie): No confusions/mistakes\n",
    "\n",
    "3. On Torgenson island (inhabited only by Adelie): 1 Adelie penguins is confused as Gentoo (see extreme upper left)\n",
    "\n",
    "This matches with the data of the confusion matrix.\n",
    "\n",
    "The species of these Adelie penguins have been wrongly predicted by the model because these specific Adelie penguins are outliers in their species with respect to the predictor variables the model used. These decision regions show the same."
   ]
  }
 ],
 "metadata": {
  "kernelspec": {
   "display_name": "Python 3",
   "language": "python",
   "name": "python3"
  },
  "language_info": {
   "codemirror_mode": {
    "name": "ipython",
    "version": 3
   },
   "file_extension": ".py",
   "mimetype": "text/x-python",
   "name": "python",
   "nbconvert_exporter": "python",
   "pygments_lexer": "ipython3",
   "version": "3.8.3"
  }
 },
 "nbformat": 4,
 "nbformat_minor": 4
}
